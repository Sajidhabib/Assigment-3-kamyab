{
 "cells": [
  {
   "cell_type": "code",
   "execution_count": 4,
   "id": "d5ce5ef1",
   "metadata": {},
   "outputs": [
    {
     "name": "stdout",
     "output_type": "stream",
     "text": [
      "Twinkle, twinkle, little star, \n",
      "\t How I wonder what you are!\n",
      "\t \t Up above the world so high,\n",
      " \t \t Like a diamond in the sky. \n",
      "Twinkle, twinkle, little star, \n",
      "\t How I wonder what you are!\n"
     ]
    }
   ],
   "source": [
    "# 1. Write a Python program to print the following string in a specific format \n",
    "\n",
    "print(\"Twinkle, twinkle, little star, \")\n",
    "print(\"\\t How I wonder what you are!\")\n",
    "print(\"\\t \\t Up above the world so high,\\n \\t \\t Like a diamond in the sky. \")\n",
    "print(\"Twinkle, twinkle, little star, \")\n",
    "print(\"\\t How I wonder what you are!\")"
   ]
  },
  {
   "cell_type": "code",
   "execution_count": 5,
   "id": "2ba6a9b5",
   "metadata": {},
   "outputs": [
    {
     "name": "stdout",
     "output_type": "stream",
     "text": [
      "3.8.8\n"
     ]
    }
   ],
   "source": [
    "#2. Write a Python program to get the Python version you are using \n",
    "\n",
    "from platform import python_version\n",
    "\n",
    "print(python_version())\n"
   ]
  },
  {
   "cell_type": "code",
   "execution_count": 17,
   "id": "3f5b26d6",
   "metadata": {},
   "outputs": [
    {
     "name": "stdout",
     "output_type": "stream",
     "text": [
      "Todays date and time is: 2021-10-23 13:02:18.157767\n"
     ]
    }
   ],
   "source": [
    "# 3. Write a Python program to display the current date and time. \n",
    "\n",
    "import datetime as ttime\n",
    "now_time = ttime.datetime.today()\n",
    "print(\"Todays date and time is:\" , now_time)"
   ]
  },
  {
   "cell_type": "code",
   "execution_count": 18,
   "id": "b3cb1d3b",
   "metadata": {},
   "outputs": [
    {
     "name": "stdout",
     "output_type": "stream",
     "text": [
      "Enter the radius of a  circle to compute the area: 4\n",
      "The area of circle is : 50.24\n"
     ]
    }
   ],
   "source": [
    "#4. Write a Python program which accepts the radius of a circle from the user and compute the area.\n",
    "PI = 3.14\n",
    "radius = float(input(\"Enter the radius of a  circle to compute the area: \"))\n",
    "area = PI * radius * radius\n",
    "print(\"The area of circle is :\", area)"
   ]
  },
  {
   "cell_type": "code",
   "execution_count": 37,
   "id": "d4b384b0",
   "metadata": {},
   "outputs": [
    {
     "name": "stdout",
     "output_type": "stream",
     "text": [
      "String Before reverse \n",
      " Sajid Habib\n",
      "String after reverse \n",
      "bibaH dijaS\n"
     ]
    }
   ],
   "source": [
    "#5. Write a Python program which accepts the user's first and last name and print them in \n",
    "name = \"Sajid Habib\"\n",
    "print(\"String Before reverse \\n \" + name)\n",
    "print(\"String after reverse \" )\n",
    "print(name[::-1])\n"
   ]
  },
  {
   "cell_type": "code",
   "execution_count": 40,
   "id": "c95e64e0",
   "metadata": {},
   "outputs": [
    {
     "name": "stdout",
     "output_type": "stream",
     "text": [
      "Enter num one55\n",
      "Enter num two54\n",
      "Addition of 55 and 54 = 109\n"
     ]
    }
   ],
   "source": [
    "#6. Write a python program which takes two inputs from user and print them addition \n",
    "\n",
    "num1 = int(input(\"Enter num one\"))\n",
    "num2 = int(input(\"Enter num two\"))\n",
    "num3  = num1 + num2\n",
    "print(f\"Addition of {num1} and {num2} =\" ,num3)"
   ]
  },
  {
   "cell_type": "code",
   "execution_count": 44,
   "id": "7b5e9e0d",
   "metadata": {},
   "outputs": [
    {
     "name": "stdout",
     "output_type": "stream",
     "text": [
      "Enter english marks66\n",
      "Enter Math marks7\n",
      "Enter Islamiat marks56\n",
      "Total marks  300\n",
      "Obtained marks:  129\n",
      "Obtained Percentage:  43 %\n",
      "Sorrry! you are fail with less marks43%\n"
     ]
    }
   ],
   "source": [
    "eng = int(input(\"Enter english marks\"))\n",
    "maths_marks = int(input(\"Enter Math marks\"))\n",
    "islamiat = int(input(\"Enter Islamiat marks\"))\n",
    "obtained = eng + maths_marks + islamiat\n",
    "total = 300 \n",
    "percentage = int(obtained/total*100);\n",
    "print(\"Total marks \" , total)\n",
    "print(\"Obtained marks: \" , obtained)\n",
    "print(\"Obtained Percentage: \" ,percentage , \"%\")\n",
    "if eng == 0 or maths_marks == 0:\n",
    "    print(\"Fail in one subject\")\n",
    "elif percentage > 80 and percentage <= 100:\n",
    "    print(\"congratulations your Grade is A+ \" + str(percentage) + \"%\")\n",
    "elif percentage > 70 and percentage <= 80:\n",
    "    print(\"congratulations your Grade is A \" + str(percentage) + \"%\")\n",
    "elif percentage > 60 and percentage <= 70:\n",
    "    print(\"congratulations your Grade is B \" + str(percentage) + \"%\")\n",
    "elif percentage > 50 and percentage <= 60:\n",
    "    print(\"congratulations your Grade is C \" + str(percentage) + \"%\")\n",
    "else:\n",
    "    print(\"Sorrry! you are fail with less marks \" + str(percentage) + \"%\")\n"
   ]
  },
  {
   "cell_type": "code",
   "execution_count": 46,
   "id": "1408a546",
   "metadata": {},
   "outputs": [
    {
     "name": "stdout",
     "output_type": "stream",
     "text": [
      "Enter  A numer to check 2\n",
      "Its an Even Number\n"
     ]
    }
   ],
   "source": [
    "#8. Write a program which take input from user and identify that the given number is even or odd?\n",
    "num = int(input(\"Enter  A numer to check \"))\n",
    "if num%2 == 0:\n",
    "    print(\"Its an Even Number\")\n",
    "else:\n",
    "    print(\"Its an Odd Number\")"
   ]
  },
  {
   "cell_type": "code",
   "execution_count": 6,
   "id": "641357bb",
   "metadata": {},
   "outputs": [
    {
     "data": {
      "text/plain": [
       "4"
      ]
     },
     "execution_count": 6,
     "metadata": {},
     "output_type": "execute_result"
    }
   ],
   "source": [
    "#9. Write a program which print the length of the list? \n",
    "\n",
    "things = ['Sajid','amad','Rashid','Rafiq']\n",
    "len(things)"
   ]
  },
  {
   "cell_type": "code",
   "execution_count": 11,
   "id": "04accaf4",
   "metadata": {},
   "outputs": [
    {
     "data": {
      "text/plain": [
       "261"
      ]
     },
     "execution_count": 11,
     "metadata": {},
     "output_type": "execute_result"
    }
   ],
   "source": [
    "#10.Write a Python program to sum all the numeric items in a list? \n",
    "\n",
    "list_items = [2,55,4,34,5,67,8,76,10]\n",
    "sum(list_items)"
   ]
  },
  {
   "cell_type": "code",
   "execution_count": 12,
   "id": "4215614e",
   "metadata": {},
   "outputs": [
    {
     "data": {
      "text/plain": [
       "76"
      ]
     },
     "execution_count": 12,
     "metadata": {},
     "output_type": "execute_result"
    }
   ],
   "source": [
    "# 11.Write a Python program to get the largest number from a numeric list. \n",
    "list_items = [2,55,4,34,5,67,8,76,10]\n",
    "max(list_items)"
   ]
  },
  {
   "cell_type": "code",
   "execution_count": 14,
   "id": "52e8e955",
   "metadata": {},
   "outputs": [
    {
     "name": "stdout",
     "output_type": "stream",
     "text": [
      "1\n",
      "1\n",
      "2\n",
      "3\n",
      "All Elements less then 5\n"
     ]
    }
   ],
   "source": [
    "#12. Take a list, say for example this one: \n",
    "a = [1, 1, 2, 3, 5, 8, 13, 21, 34, 55, 89] \n",
    "for i in a:\n",
    "    if i < 5:\n",
    "        print(i)\n",
    "print(\"All Elements less then 5\")"
   ]
  },
  {
   "cell_type": "code",
   "execution_count": null,
   "id": "f0bbeb1f",
   "metadata": {},
   "outputs": [],
   "source": []
  }
 ],
 "metadata": {
  "kernelspec": {
   "display_name": "Python 3",
   "language": "python",
   "name": "python3"
  },
  "language_info": {
   "codemirror_mode": {
    "name": "ipython",
    "version": 3
   },
   "file_extension": ".py",
   "mimetype": "text/x-python",
   "name": "python",
   "nbconvert_exporter": "python",
   "pygments_lexer": "ipython3",
   "version": "3.8.8"
  }
 },
 "nbformat": 4,
 "nbformat_minor": 5
}
